{
 "cells": [
  {
   "cell_type": "code",
   "execution_count": 10,
   "metadata": {},
   "outputs": [],
   "source": [
    "import time\n",
    "\n",
    "import numpy as np\n",
    "import pandas as pd\n",
    "import scipy.sparse as sparse\n",
    "import torch, torch.nn as nn\n",
    "import torch.nn.functional as F\n",
    "from torch.autograd import Variable\n",
    "from torch.optim import Adam\n",
    "from tqdm import tqdm_notebook\n",
    "\n",
    "from code.layers import GCNConv\n",
    "from code.utils import make_matrix, apply_weights, precision_at_k"
   ]
  },
  {
   "cell_type": "code",
   "execution_count": 5,
   "metadata": {},
   "outputs": [
    {
     "data": {
      "text/html": [
       "<div>\n",
       "<style scoped>\n",
       "    .dataframe tbody tr th:only-of-type {\n",
       "        vertical-align: middle;\n",
       "    }\n",
       "\n",
       "    .dataframe tbody tr th {\n",
       "        vertical-align: top;\n",
       "    }\n",
       "\n",
       "    .dataframe thead th {\n",
       "        text-align: right;\n",
       "    }\n",
       "</style>\n",
       "<table border=\"1\" class=\"dataframe\">\n",
       "  <thead>\n",
       "    <tr style=\"text-align: right;\">\n",
       "      <th></th>\n",
       "      <th>user_id</th>\n",
       "      <th>item_id</th>\n",
       "      <th>feedback</th>\n",
       "    </tr>\n",
       "  </thead>\n",
       "  <tbody>\n",
       "    <tr>\n",
       "      <th>0</th>\n",
       "      <td>259</td>\n",
       "      <td>255</td>\n",
       "      <td>4</td>\n",
       "    </tr>\n",
       "    <tr>\n",
       "      <th>1</th>\n",
       "      <td>259</td>\n",
       "      <td>286</td>\n",
       "      <td>4</td>\n",
       "    </tr>\n",
       "    <tr>\n",
       "      <th>2</th>\n",
       "      <td>259</td>\n",
       "      <td>298</td>\n",
       "      <td>4</td>\n",
       "    </tr>\n",
       "    <tr>\n",
       "      <th>3</th>\n",
       "      <td>259</td>\n",
       "      <td>185</td>\n",
       "      <td>4</td>\n",
       "    </tr>\n",
       "    <tr>\n",
       "      <th>4</th>\n",
       "      <td>259</td>\n",
       "      <td>173</td>\n",
       "      <td>4</td>\n",
       "    </tr>\n",
       "  </tbody>\n",
       "</table>\n",
       "</div>"
      ],
      "text/plain": [
       "   user_id  item_id  feedback\n",
       "0      259      255         4\n",
       "1      259      286         4\n",
       "2      259      298         4\n",
       "3      259      185         4\n",
       "4      259      173         4"
      ]
     },
     "execution_count": 5,
     "metadata": {},
     "output_type": "execute_result"
    }
   ],
   "source": [
    "df_train = pd.read_csv('prepared_data/ml-100k/train.csv')\n",
    "df_test = pd.read_csv('prepared_data/ml-100k/test.csv')\n",
    "df_test_warm = pd.read_csv('prepared_data/ml-100k/test_warm.csv')\n",
    "\n",
    "df_train.head()"
   ]
  },
  {
   "cell_type": "code",
   "execution_count": 6,
   "metadata": {},
   "outputs": [],
   "source": [
    "matrix = make_matrix(df_train, count=False)\n",
    "matrix = apply_weights(matrix, weight='bm25')"
   ]
  },
  {
   "cell_type": "code",
   "execution_count": 9,
   "metadata": {},
   "outputs": [],
   "source": [
    "matrix = sparse.csr_matrix(matrix).tocsr()"
   ]
  },
  {
   "cell_type": "code",
   "execution_count": null,
   "metadata": {},
   "outputs": [],
   "source": [
    "class GCNRecsys(object):\n",
    "    \n",
    "    def __init__(self, num_users, num_items, A, embedding_dim=64, sparse=True):\n",
    "        super(GCNRecsys, self).__init__()\n",
    "        \n",
    "        # Usual nn.Embedding for users and items\n",
    "        self.embedding_dim = embedding_dim\n",
    "        self.user_embeddings = nn.Embedding(num_embeddings=num_users, \n",
    "                                            embedding_dim=embedding_dim,  \n",
    "                                            sparse=sparse)\n",
    "        self.item_embeddings = nn.Embedding(num_embeddings=num_items, \n",
    "                                            embedding_dim=embedding_dim,  \n",
    "                                            sparse=sparse)\n",
    "        self.user_biases = ZeroEmbedding(num_users, 1, sparse=sparse)\n",
    "        self.item_biases = ZeroEmbedding(num_items, 1, sparse=sparse)\n",
    "        \n",
    "        # Secind layer only for items: embedding_dim -> GCN -> embedding_dim\n",
    "        self.item_gcn = GCNConv(A=A, \n",
    "                                in_channels=embedding_dim, \n",
    "                                out_channels=embedding_dim)\n",
    "        \n",
    "    def forward(self, user_ids, item_ids):\n",
    "        "
   ]
  }
 ],
 "metadata": {
  "kernelspec": {
   "display_name": "Python 3",
   "language": "python",
   "name": "python3"
  },
  "language_info": {
   "codemirror_mode": {
    "name": "ipython",
    "version": 3
   },
   "file_extension": ".py",
   "mimetype": "text/x-python",
   "name": "python",
   "nbconvert_exporter": "python",
   "pygments_lexer": "ipython3",
   "version": "3.7.3"
  }
 },
 "nbformat": 4,
 "nbformat_minor": 2
}
